{
 "cells": [
  {
   "cell_type": "markdown",
   "id": "7c5a538f-2dbe-445c-9f46-cf0dc18867e4",
   "metadata": {},
   "source": [
    "# Задание 1 (5 баллов)"
   ]
  },
  {
   "cell_type": "markdown",
   "id": "1e8cc3b0-6f60-40da-8058-30d9eb434daf",
   "metadata": {},
   "source": [
    "Напишите классы **Chat**, **Message** и **User**. Они должны соответствовать следующим требованиям:\n",
    "\n",
    "**Chat**:\n",
    "+ Должен иметь атрибут `chat_history`, где будут храниться все сообщения (`Message`) в обратном хронологическом порядке (сначала новые, затем старые)\n",
    "+ Должен иметь метод `show_last_message`, выводящий на экран информацию о последнем сообщении\n",
    "+ Должен иметь метод `get_history_from_time_period`, который принимает два опциональных аргумента (даты с которой и по какую мы ищем сообщения и выдаём их). Метод также должен возвращать объект типа `Chat`\n",
    "+ Должен иметь метод `show_chat`, выводящий на экран все сообщения (каждое сообщение в таком же виде как и `show_last_message`, но с разделителем между ними)\n",
    "+ Должен иметь метод `recieve`, который будет принимать сообщение и добавлять его в чат\n",
    "\n",
    "**Message**:\n",
    "+ Должен иметь три обязательных атрибута\n",
    "    + `text` - текст сообщения\n",
    "    + `datetime` - дата и время сообщения (встроенный модуль datetime вам в помощь). Важно! Это должна быть не дата создания сообщения, а дата его попадания в чат! \n",
    "    + `user` - информация о пользователе, который оставил сообщение (какой тип данных использовать здесь, разберётесь сами)\n",
    "+ Должен иметь метод `show`, который печатает или возвращает информацию о сообщении с необходимой информацией (дата, время, юзер, текст)\n",
    "+ Должен иметь метод `send`, который будет отправлять сообщение в чат\n",
    "\n",
    "**User**:\n",
    "+ Класс с информацией о юзере, наполнение для этого класса придумайте сами\n",
    "\n",
    "Напишите несколько примеров использования кода, которое показывает взаимодействие между объектами.\n",
    "\n",
    "В тексте задания намерено не указано, какие аргументы должны принимать методы, пускай вам в этом поможет здравый смысл)\n",
    "\n",
    "В этом задании не стоит флексить всякими продвинутыми штуками, для этого есть последующие\n",
    "\n",
    "В этом задании можно использовать только модуль `datetime`"
   ]
  },
  {
   "cell_type": "code",
   "execution_count": 1,
   "id": "e9cb213c-0361-44f1-82c3-199b4aa80df8",
   "metadata": {
    "tags": []
   },
   "outputs": [],
   "source": [
    "from datetime import datetime\n",
    "import time\n",
    "\n",
    "class Chat:\n",
    "    def __init__(self):\n",
    "        self.chat_history = []\n",
    "        \n",
    "    def show_last_message(self):\n",
    "        last_message = self.chat_history[0]\n",
    "        last_message.show()\n",
    "    \n",
    "    def get_history_from_time_period(self, after = datetime(2000, 1, 1, 1, 1, 1),\n",
    "                                     before = datetime(2099, 1, 1, 1, 1, 1)):\n",
    "        selected_messages = Chat()\n",
    "        for message in self.chat_history:\n",
    "            if message.datetime > after and message.datetime < before:\n",
    "                selected_messages.recieve(message)\n",
    "        return selected_messages.show_chat()\n",
    "    \n",
    "    def show_chat(self):\n",
    "        for message in self.chat_history:\n",
    "            message.show()\n",
    "    \n",
    "    def recieve(self, new_message):\n",
    "        new_message.datetime = datetime.now()\n",
    "        self.chat_history.insert(0, new_message)\n",
    "        time.sleep(5)\n",
    "        return self.chat_history \n",
    "        \n",
    "class Message:\n",
    "    def __init__(self, user, message):\n",
    "        self.text = message\n",
    "        self.user = user.nickname\n",
    "        self.pronouns = user.pronouns\n",
    "        self.datetime = None\n",
    "    \n",
    "    def show(self):\n",
    "        info = f'''\n",
    "        From: {self.user}\n",
    "        Message: {self.text}\n",
    "        Date and time: {self.datetime}'''\n",
    "        print(info)\n",
    "    \n",
    "    def send(self, chat):\n",
    "        chat.recieve(self)\n",
    "        \n",
    "class User:\n",
    "    def __init__(self, nickname, kaomoji, pronouns):\n",
    "        self.nickname = kaomoji + nickname + kaomoji\n",
    "        self.pronouns = pronouns\n",
    "    def __repr__(self):\n",
    "        return f'Nickname:{self.nickname}, pronouns: {self.pronouns}.'"
   ]
  },
  {
   "cell_type": "code",
   "execution_count": 2,
   "id": "74d28a7e-475a-4ab8-846a-c9cf98476c74",
   "metadata": {},
   "outputs": [],
   "source": [
    "dio = User(' ＤＩＯ ', '🦇', 'he/him')\n",
    "jojo = User(' ＪｏＪｏ ', '⭐', 'he/him')\n",
    "\n",
    "m1 = Message(dio, \"Oh? You're approaching me? Instead of running away, you're coming right to me?\")\n",
    "m2 = Message(jojo, \"I can't beat the shit out of you without getting closer\")\n",
    "m3 = Message(dio, \"Oh ho!~ Then come as close as you like\")\n",
    "m4 = Message(jojo, \"Yare yare daze...\")\n",
    "m5 = Message(jojo, \"Ora!Ora!Ora!Ora!\")\n",
    "m6 = Message(dio, \"Too slow, too slow! The World is the ultimate Stand. Even without his power to stop time, his speed and power far exceed that of your Star Platinum.\")\n",
    "\n",
    "battle = Chat()"
   ]
  },
  {
   "cell_type": "code",
   "execution_count": 3,
   "id": "b51d0d8d-62ab-4a22-9388-b6f7fc8b2af6",
   "metadata": {},
   "outputs": [
    {
     "data": {
      "text/plain": [
       "Nickname:🦇 ＤＩＯ 🦇, pronouns: he/him."
      ]
     },
     "execution_count": 3,
     "metadata": {},
     "output_type": "execute_result"
    }
   ],
   "source": [
    "dio"
   ]
  },
  {
   "cell_type": "code",
   "execution_count": 4,
   "id": "64719b38-dcc0-42c9-9d9b-0ed5ed5e2c8a",
   "metadata": {},
   "outputs": [
    {
     "name": "stdout",
     "output_type": "stream",
     "text": [
      "\n",
      "        From: ⭐ ＪｏＪｏ ⭐\n",
      "        Message: I can't beat the shit out of you without getting closer\n",
      "        Date and time: None\n"
     ]
    }
   ],
   "source": [
    "m2.show()"
   ]
  },
  {
   "cell_type": "code",
   "execution_count": 5,
   "id": "2f9a3dd5-51f6-401c-980f-8322847a23a9",
   "metadata": {},
   "outputs": [
    {
     "name": "stdout",
     "output_type": "stream",
     "text": [
      "\n",
      "        From: ⭐ ＪｏＪｏ ⭐\n",
      "        Message: I can't beat the shit out of you without getting closer\n",
      "        Date and time: 2023-02-24 14:35:30.753319\n",
      "\n",
      "        From: 🦇 ＤＩＯ 🦇\n",
      "        Message: Oh? You're approaching me? Instead of running away, you're coming right to me?\n",
      "        Date and time: 2023-02-24 14:35:25.751524\n"
     ]
    }
   ],
   "source": [
    "m1.send(battle)\n",
    "m2.send(battle)\n",
    "battle.show_chat()"
   ]
  },
  {
   "cell_type": "code",
   "execution_count": 6,
   "id": "1a494e54-9424-4253-893a-9a600ae4fe75",
   "metadata": {},
   "outputs": [
    {
     "name": "stdout",
     "output_type": "stream",
     "text": [
      "\n",
      "        From: ⭐ ＪｏＪｏ ⭐\n",
      "        Message: Ora!Ora!Ora!Ora!\n",
      "        Date and time: 2023-02-24 14:35:55.801231\n",
      "\n",
      "        From: 🦇 ＤＩＯ 🦇\n",
      "        Message: Too slow, too slow! The World is the ultimate Stand. Even without his power to stop time, his speed and power far exceed that of your Star Platinum.\n",
      "        Date and time: 2023-02-24 14:35:50.797180\n",
      "\n",
      "        From: ⭐ ＪｏＪｏ ⭐\n",
      "        Message: Ora!Ora!Ora!Ora!\n",
      "        Date and time: 2023-02-24 14:35:55.801231\n",
      "\n",
      "        From: ⭐ ＪｏＪｏ ⭐\n",
      "        Message: Yare yare daze...\n",
      "        Date and time: 2023-02-24 14:35:40.789306\n",
      "\n",
      "        From: 🦇 ＤＩＯ 🦇\n",
      "        Message: Oh ho!~ Then come as close as you like\n",
      "        Date and time: 2023-02-24 14:35:35.784470\n",
      "\n",
      "        From: ⭐ ＪｏＪｏ ⭐\n",
      "        Message: I can't beat the shit out of you without getting closer\n",
      "        Date and time: 2023-02-24 14:35:30.753319\n",
      "\n",
      "        From: 🦇 ＤＩＯ 🦇\n",
      "        Message: Oh? You're approaching me? Instead of running away, you're coming right to me?\n",
      "        Date and time: 2023-02-24 14:35:25.751524\n"
     ]
    }
   ],
   "source": [
    "m3.send(battle)\n",
    "m4.send(battle)\n",
    "m5.send(battle)\n",
    "m6.send(battle)\n",
    "m5.send(battle)\n",
    "battle.show_chat()"
   ]
  },
  {
   "cell_type": "code",
   "execution_count": 7,
   "id": "46d80776-4c1c-4bb6-b245-7c5c6a66d5ae",
   "metadata": {},
   "outputs": [
    {
     "name": "stdout",
     "output_type": "stream",
     "text": [
      "\n",
      "        From: ⭐ ＪｏＪｏ ⭐\n",
      "        Message: I can't beat the shit out of you without getting closer\n",
      "        Date and time: 2023-02-24 14:36:36.080990\n",
      "\n",
      "        From: 🦇 ＤＩＯ 🦇\n",
      "        Message: Oh ho!~ Then come as close as you like\n",
      "        Date and time: 2023-02-24 14:36:31.078827\n"
     ]
    }
   ],
   "source": [
    "battle.get_history_from_time_period(after = datetime(2023, 2, 24, 14, 35, 29),\n",
    "                                    before = datetime(2023, 2, 24, 14, 35, 40))"
   ]
  },
  {
   "cell_type": "code",
   "execution_count": null,
   "id": "e8d0c6c2-f313-4a54-819e-d5922f36b93d",
   "metadata": {},
   "outputs": [],
   "source": []
  },
  {
   "cell_type": "markdown",
   "id": "a59aa1b3-4c93-480e-a09f-e57df34eb60a",
   "metadata": {},
   "source": [
    "# Задание 2 (3 балла)"
   ]
  },
  {
   "cell_type": "markdown",
   "id": "ab07eb69-877f-4c38-8c7d-88beae20071b",
   "metadata": {},
   "source": [
    "В питоне как-то слишком типично и неинтересно происходят вызовы функций. Напишите класс `Args`, который будет хранить в себе аргументы, а функции можно будет вызывать при помощи следующего синтаксиса.\n",
    "\n",
    "Использовать любые модули **нельзя**, да и вряд-ли это как-то поможет)"
   ]
  },
  {
   "cell_type": "code",
   "execution_count": 6,
   "id": "d73d6b31-c15a-4ae6-ad9b-b3fdab88efed",
   "metadata": {},
   "outputs": [],
   "source": [
    "class Args:\n",
    "    def __init__(self, *args, **kwargs):\n",
    "        self.args = args\n",
    "        self.kwargs = kwargs\n",
    "    \n",
    "    def __rlshift__(self, function):\n",
    "        return function(*self.args, **self.kwargs)"
   ]
  },
  {
   "cell_type": "code",
   "execution_count": 7,
   "id": "55afedbb-4725-4078-bd98-bf803be0bf93",
   "metadata": {},
   "outputs": [
    {
     "data": {
      "text/plain": [
       "3"
      ]
     },
     "execution_count": 7,
     "metadata": {},
     "output_type": "execute_result"
    }
   ],
   "source": [
    "sum << Args([1, 2])"
   ]
  },
  {
   "cell_type": "code",
   "execution_count": 8,
   "id": "c37f0728-9bdc-469e-a5b8-3ab5aa43a731",
   "metadata": {},
   "outputs": [
    {
     "data": {
      "text/plain": [
       "53"
      ]
     },
     "execution_count": 8,
     "metadata": {},
     "output_type": "execute_result"
    }
   ],
   "source": [
    "(lambda a, b, c: a**2 + b + c) << Args(1, 2, c=50)"
   ]
  },
  {
   "cell_type": "markdown",
   "id": "d6915eaf-92fe-460b-bf9b-06ccf55b093f",
   "metadata": {},
   "source": [
    "# Задание 3 (5 баллов)"
   ]
  },
  {
   "cell_type": "markdown",
   "id": "5a588ef8-8af6-42b6-972b-3c716a604c34",
   "metadata": {},
   "source": [
    "Сделайте класс наследник `float`. Он должен вести себя как `float`, но также должен обладать некоторыми особенностями:\n",
    "+ При получении атрибутов формата `<действие>_<число>` мы получаем результат такого действия над нашим числом\n",
    "+ Создавать данные атрибуты в явном виде, очевидно, не стоит\n",
    "\n",
    "Подсказка: если в процессе гуглёжки, вы выйдете на такую тему как **\"Дескрипторы\", то это НЕ то, что вам сейчас нужно**\n",
    "\n",
    "Примеры использования ниже"
   ]
  },
  {
   "cell_type": "code",
   "execution_count": 13,
   "id": "a42f5e4b-4794-4bb6-8f66-3efdcf894b4c",
   "metadata": {},
   "outputs": [],
   "source": [
    "class StrangeFloat(float):\n",
    "    def __init__(self, number):\n",
    "        self.number = number\n",
    "        super().__init__()\n",
    "        \n",
    "    def __getattr__(self, item):\n",
    "        function, number2 = item.split('_')\n",
    "        if function == 'add':\n",
    "            return StrangeFloat(self.number + float(number2))\n",
    "        if function == 'subtract':\n",
    "            return StrangeFloat(self.number - float(number2))\n",
    "        if function == 'multiply':\n",
    "            return StrangeFloat(self.number * float(number2))\n",
    "        if function == 'divide':\n",
    "            return StrangeFloat(self.number / float(number2))"
   ]
  },
  {
   "cell_type": "code",
   "execution_count": 14,
   "id": "f730c9c0-7d90-4037-97c6-e926dcbc1ea3",
   "metadata": {
    "tags": []
   },
   "outputs": [],
   "source": [
    "number = StrangeFloat(3.5)"
   ]
  },
  {
   "cell_type": "code",
   "execution_count": 23,
   "id": "b2756368-a489-486d-a0f1-244697f8503c",
   "metadata": {},
   "outputs": [
    {
     "data": {
      "text/plain": [
       "4.5"
      ]
     },
     "execution_count": 23,
     "metadata": {},
     "output_type": "execute_result"
    }
   ],
   "source": [
    "number.add_1"
   ]
  },
  {
   "cell_type": "code",
   "execution_count": 24,
   "id": "c6799592-3cb6-4c7d-af62-9c0a48a76c1d",
   "metadata": {},
   "outputs": [
    {
     "data": {
      "text/plain": [
       "-16.5"
      ]
     },
     "execution_count": 24,
     "metadata": {},
     "output_type": "execute_result"
    }
   ],
   "source": [
    "number.subtract_20"
   ]
  },
  {
   "cell_type": "code",
   "execution_count": 25,
   "id": "130027b5-017a-4c70-b072-1fdc6acf670f",
   "metadata": {},
   "outputs": [
    {
     "data": {
      "text/plain": [
       "17.5"
      ]
     },
     "execution_count": 25,
     "metadata": {},
     "output_type": "execute_result"
    }
   ],
   "source": [
    "number.multiply_5"
   ]
  },
  {
   "cell_type": "code",
   "execution_count": 26,
   "id": "2b901e5c-5a51-4788-b15b-9b20a074e1a4",
   "metadata": {},
   "outputs": [
    {
     "data": {
      "text/plain": [
       "0.14"
      ]
     },
     "execution_count": 26,
     "metadata": {},
     "output_type": "execute_result"
    }
   ],
   "source": [
    "number.divide_25"
   ]
  },
  {
   "cell_type": "code",
   "execution_count": 27,
   "id": "ea52c492-b0ce-4d73-8aba-a0ea51ed0b60",
   "metadata": {},
   "outputs": [
    {
     "data": {
      "text/plain": [
       "-4.125"
      ]
     },
     "execution_count": 27,
     "metadata": {},
     "output_type": "execute_result"
    }
   ],
   "source": [
    "number.add_1.add_2.multiply_6.divide_8.subtract_9"
   ]
  },
  {
   "cell_type": "code",
   "execution_count": 28,
   "id": "e26ef411-a5df-46c7-bb9d-e77a1fad3cec",
   "metadata": {},
   "outputs": [
    {
     "data": {
      "text/plain": [
       "1.0"
      ]
     },
     "execution_count": 28,
     "metadata": {},
     "output_type": "execute_result"
    }
   ],
   "source": [
    "getattr(number, \"add_-2.5\")   # Используем getattr, так как не можем написать number.add_-2.5 - это SyntaxError"
   ]
  },
  {
   "cell_type": "code",
   "execution_count": 29,
   "id": "7a57bb29-1105-4df1-a4c4-5fbf62eef11d",
   "metadata": {},
   "outputs": [
    {
     "data": {
      "text/plain": [
       "11.5"
      ]
     },
     "execution_count": 29,
     "metadata": {},
     "output_type": "execute_result"
    }
   ],
   "source": [
    "number + 8   # Стандартные для float операции работают также"
   ]
  },
  {
   "cell_type": "code",
   "execution_count": 30,
   "id": "f0246b31-c55a-4bb8-ac15-46509bd8b340",
   "metadata": {},
   "outputs": [
    {
     "data": {
      "text/plain": [
       "(7, 2)"
      ]
     },
     "execution_count": 30,
     "metadata": {},
     "output_type": "execute_result"
    }
   ],
   "source": [
    "number.as_integer_ratio()   # Стандартные для float операции работают также  (это встроенный метод float, писать его НЕ НАДО)"
   ]
  },
  {
   "cell_type": "markdown",
   "id": "3635bceb-723c-4b2f-82e3-269bd914c46c",
   "metadata": {},
   "source": [
    "# Задание 4 (3 балла)"
   ]
  },
  {
   "cell_type": "markdown",
   "id": "31d35f82-1e20-4bf5-b896-7b8163f8386f",
   "metadata": {},
   "source": [
    "В данном задании мы немного отдохнём и повеселимся. От вас требуется заменить в данном коде максимально возможное количество синтаксических конструкций на вызовы dunder методов, dunder атрибутов и dunder переменных.\n",
    "\n",
    "Маленькая заметка: полностью всё заменить невозможно. Например, `function()` можно записать как `function.__call__()`, но при этом мы всё ещё не избавляемся от скобочек, так что можно делать так до бесконечности `function.__call__.__call__.__call__.__call__.....__call__()` и при всём при этом мы ещё не избавляемся от `.` для доступа к атрибутам. В общем, замените всё, что получится, не закапываясь в повторы, как в приведённом примере. Чем больше разных методов вы найдёте и используете, тем лучше и тем выше будет балл\n",
    "\n",
    "Код по итогу дожен работать и печатать число **4420.0**, как в примере. Структуру кода менять нельзя, просто изменяем конструкции на синонимичные\n",
    "\n",
    "И ещё маленькая подсказка. Заменить здесь можно всё кроме:\n",
    "+ Конструкции `for ... in ...`:\n",
    "+ Синтаксиса создания лямбда функции\n",
    "+ Оператора присваивания `=`\n",
    "+ Конструкции `if-else`"
   ]
  },
  {
   "cell_type": "code",
   "execution_count": 70,
   "id": "a87cff2a-7168-470d-b38f-1cb5a60ac0c4",
   "metadata": {},
   "outputs": [
    {
     "name": "stdout",
     "output_type": "stream",
     "text": [
      "4420.0\n"
     ]
    }
   ],
   "source": [
    "import numpy as np\n",
    "\n",
    "\n",
    "matrix = []\n",
    "for idx in range(0, 100, 10):\n",
    "    matrix += [list(range(idx, idx + 10))]\n",
    "    \n",
    "selected_columns_indices = list(filter(lambda x: x in range(1, 5, 2), range(len(matrix))))\n",
    "selected_columns = map(lambda x: [x[col] for col in selected_columns_indices], matrix)\n",
    "\n",
    "arr = np.array(list(selected_columns))\n",
    "\n",
    "mask = arr[:, 1] % 3 == 0\n",
    "new_arr = arr[mask]\n",
    "\n",
    "product = new_arr @ new_arr.T\n",
    "\n",
    "if (product[0] < 1000).all() and (product[2] > 1000).any():\n",
    "    print(product.mean())"
   ]
  },
  {
   "cell_type": "code",
   "execution_count": null,
   "id": "9e29cc00-c8db-4cc4-a93b-2908352d9344",
   "metadata": {},
   "outputs": [],
   "source": [
    "# Ваш код здесь"
   ]
  },
  {
   "cell_type": "markdown",
   "id": "e90e5938-cabe-4ee1-9a88-73f25b3b67c3",
   "metadata": {},
   "source": [
    "# Задание 5 (10 баллов)"
   ]
  },
  {
   "cell_type": "markdown",
   "id": "0e58f6a8-7bb8-45f0-b14d-3bcd1f1ba5a9",
   "metadata": {},
   "source": [
    "Напишите абстрактный класс `BiologicalSequence`, который задаёт следующий интерфейс:\n",
    "+ Работа с функцией `len`\n",
    "+ Возможность получать элементы по индексу и делать срезы последовательности (аналогично строкам)\n",
    "+ Вывод на печать в удобном виде и возможность конвертации в строку\n",
    "+ Возможность проверить алфавит последовательности на корректность\n",
    "\n",
    "Напишите класс `NucleicAcidSequence`:\n",
    "+ Данный класс реализует интерфейс `BiologicalSequence`\n",
    "+ Данный класс имеет новый метод `complement`, возвращающий комплементарную последовательность\n",
    "+ Данный класс имеет новый метод `gc_content`, возвращающий GC-состав (без разницы, в процентах или в долях)\n",
    "\n",
    "Напишите классы наследники `NucleicAcidSequence`: `DNASequence` и `RNASequence`\n",
    "+ `DNASequence` должен иметь метод `transcribe`, возвращающий транскрибированную РНК-последовательность\n",
    "+ Данные классы не должны иметь <ins>публичных методов</ins> `complement` и метода для проверки алфавита, так как они уже должны быть реализованы в `NucleicAcidSequence`.\n",
    "\n",
    "Напишите класс `AminoAcidSequence`:\n",
    "+ Данный класс реализует интерфейс `BiologicalSequence`\n",
    "+ Добавьте этому классу один любой метод, подходящий по смыслу к аминокислотной последовательности. Например, метод для нахождения изоэлектрической точки, молекулярного веса и т.д.\n",
    "\n",
    "Комментарий по поводу метода `NucleicAcidSequence.complement`, так как я хочу, чтобы вы сделали его опредедённым образом:\n",
    "\n",
    "При вызове `dna.complement()` или условного `dna.check_alphabet()` должны будут вызываться соответствующие методы из `NucleicAcidSequence`. При этом, данный метод должен обладать свойством полиморфизма, иначе говоря, внутри `complement` не надо делать условия а-ля `if seuqence_type == \"DNA\": return self.complement_dna()`, это крайне не гибко. Данный метод должен опираться на какой-то общий интерфейс между ДНК и РНК. Создание экземпляров `NucleicAcidSequence` не подразумевается, поэтому код `NucleicAcidSequence(\"ATGC\").complement()` не обязан работать, а в идеале должен кидать исключение `NotImplementedError` при вызове от экземпляра `NucleicAcidSequence`\n",
    "\n",
    "Вся сложность задания в том, чтобы правильно организовать код. Если у вас есть повторяющийся код в сестринских классах или родительском и дочернем, значит вы что-то делаете не так.\n",
    "\n",
    "\n",
    "Маленькое замечание: По-хорошему, между классом `BiologicalSequence` и классами `NucleicAcidSequence` и `AminoAcidSequence`, ещё должен быть класс-прослойка, частично реализующий интерфейс `BiologicalSequence`, но его писать не обязательно, так как задание и так довольно большое (правда из-за этого у вас неминуемо возникнет повторяющийся код в классах `NucleicAcidSequence` и `AminoAcidSequence`)"
   ]
  },
  {
   "cell_type": "code",
   "execution_count": 147,
   "id": "f17d5d3f-9982-4271-a987-3af7bc071c42",
   "metadata": {},
   "outputs": [],
   "source": [
    "from abc import ABC, abstractmethod\n",
    "\n",
    "\n",
    "# Ваш код здесь"
   ]
  }
 ],
 "metadata": {
  "kernelspec": {
   "display_name": "Python 3 (ipykernel)",
   "language": "python",
   "name": "python3"
  },
  "language_info": {
   "codemirror_mode": {
    "name": "ipython",
    "version": 3
   },
   "file_extension": ".py",
   "mimetype": "text/x-python",
   "name": "python",
   "nbconvert_exporter": "python",
   "pygments_lexer": "ipython3",
   "version": "3.9.13"
  }
 },
 "nbformat": 4,
 "nbformat_minor": 5
}
