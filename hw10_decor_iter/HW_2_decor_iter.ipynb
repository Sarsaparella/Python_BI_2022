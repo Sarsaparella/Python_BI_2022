{
 "cells": [
  {
   "cell_type": "markdown",
   "id": "72f5013c-f4b9-4a1f-aed9-7e47623e7c8a",
   "metadata": {},
   "source": [
    "# Задание 1 (2 балла)"
   ]
  },
  {
   "cell_type": "markdown",
   "id": "0e818fc0-4716-45c6-8942-7b60da358200",
   "metadata": {},
   "source": [
    "Напишите класс `MyDict`, который будет полностью повторять поведение обычного словаря, за исключением того, что при итерации мы должны получать и ключи, и значения.\n",
    "\n",
    "**Модули использовать нельзя**"
   ]
  },
  {
   "cell_type": "code",
   "execution_count": 31,
   "id": "3dc27675-99fc-4040-a8f7-aa20be51c816",
   "metadata": {},
   "outputs": [],
   "source": [
    "class MyDict(dict):\n",
    "    \n",
    "    def __iter__(self):\n",
    "        return iter(self.items()) # Так можно? Вроде не сказано, что нельзя так делать..."
   ]
  },
  {
   "cell_type": "code",
   "execution_count": 32,
   "id": "a96e453e-2553-40b1-889f-cce04c6db771",
   "metadata": {},
   "outputs": [
    {
     "name": "stdout",
     "output_type": "stream",
     "text": [
      "a 1\n",
      "b 2\n",
      "c 3\n",
      "d 25\n"
     ]
    }
   ],
   "source": [
    "dct = MyDict({\"a\": 1, \"b\": 2, \"c\": 3, \"d\": 25})\n",
    "for key, value in dct:\n",
    "    print(key, value)   "
   ]
  },
  {
   "cell_type": "code",
   "execution_count": 33,
   "id": "9be2de18-f963-4de0-afba-c183a9a56087",
   "metadata": {},
   "outputs": [
    {
     "name": "stdout",
     "output_type": "stream",
     "text": [
      "a\n",
      "b\n",
      "c\n",
      "d\n"
     ]
    }
   ],
   "source": [
    "for key in dct.keys():\n",
    "    print(key)"
   ]
  },
  {
   "cell_type": "code",
   "execution_count": 34,
   "id": "b7bfbf08-7253-4aab-a9a0-a8e8500c5a29",
   "metadata": {},
   "outputs": [
    {
     "data": {
      "text/plain": [
       "28"
      ]
     },
     "execution_count": 34,
     "metadata": {},
     "output_type": "execute_result"
    }
   ],
   "source": [
    "dct[\"c\"] + dct[\"d\"]"
   ]
  },
  {
   "cell_type": "code",
   "execution_count": null,
   "id": "3db8212a-7d31-4b51-a052-672879917cce",
   "metadata": {},
   "outputs": [],
   "source": []
  },
  {
   "cell_type": "markdown",
   "id": "4bde5544-afd0-408e-a03b-dad5096ee685",
   "metadata": {},
   "source": [
    "# Задание 2 (2 балла)"
   ]
  },
  {
   "cell_type": "markdown",
   "id": "36e85085-9990-4a2a-a005-f5ef3afd438d",
   "metadata": {},
   "source": [
    "Напишите функцию `iter_append`, которая \"добавляет\" новый элемент в конец итератора, возвращая итератор, который включает изначальные элементы и новый элемент. Итерироваться по итератору внутри функции нельзя, то есть вот такая штука не принимается\n",
    "```python\n",
    "def iter_append(iterator, item):\n",
    "    lst = list(iterator) + [item]\n",
    "    return iter(lst)\n",
    "```\n",
    "\n",
    "**Модули использовать нельзя**"
   ]
  },
  {
   "cell_type": "code",
   "execution_count": 42,
   "id": "0cc383da-06fd-4e0f-babe-3c64b58816e9",
   "metadata": {
    "tags": []
   },
   "outputs": [
    {
     "name": "stdout",
     "output_type": "stream",
     "text": [
      "1\n",
      "2\n",
      "3\n",
      "4\n"
     ]
    }
   ],
   "source": [
    "def iter_append(iterator, item):\n",
    "    yield from iterator\n",
    "    yield item\n",
    "    \n",
    "\n",
    "my_iterator = iter([1, 2, 3])\n",
    "new_iterator = iter_append(my_iterator, 4)\n",
    "\n",
    "\n",
    "for element in new_iterator:\n",
    "    print(element)"
   ]
  },
  {
   "cell_type": "markdown",
   "id": "72c35894-0caf-41ac-a584-56058b243f29",
   "metadata": {
    "tags": []
   },
   "source": [
    "# Задание 3 (5 баллов)"
   ]
  },
  {
   "cell_type": "markdown",
   "id": "884be4ed-b388-4b36-ad7d-d6835a87425e",
   "metadata": {},
   "source": [
    "Представим, что мы установили себе некоторую библиотеку, которая содержит в себе два класса `MyString` и `MySet`, которые являются наследниками `str` и `set`, но также несут и дополнительные методы.\n",
    "\n",
    "Проблема заключается в том, что библиотеку писали не очень аккуратные люди, поэтому получилось так, что некоторые методы возвращают не тот тип данных, который мы ожидаем. Например, `MyString().reverse()` возвращает объект класса `str`, хотя логичнее было бы ожидать объект класса `MyString`.\n",
    "\n",
    "Найдите и реализуйте удобный способ сделать так, чтобы подобные методы возвращали экземпляр текущего класса, а не родительского. При этом **код методов изменять нельзя**\n",
    "\n",
    "**+3 дополнительных балла** за реализацию того, чтобы **унаследованные от `str` и `set` методы** также возвращали объект интересующего нас класса (то есть `MyString.replace(..., ...)` должен возвращать `MyString`). **Переопределять методы нельзя**\n",
    "\n",
    "**Модули использовать нельзя**"
   ]
  },
  {
   "cell_type": "code",
   "execution_count": 1,
   "id": "93b95971-2acb-4b5b-9285-4d18d66f84fe",
   "metadata": {},
   "outputs": [],
   "source": [
    "def change_outp_class():\n",
    "    def wrapp(func):\n",
    "        def inner_func(*args, **kwargs):\n",
    "            classname = type(args[0])\n",
    "            result = func(*args, **kwargs)\n",
    "            return classname(result)\n",
    "        return inner_func\n",
    "    return wrapp\n",
    "\n",
    "\n",
    "class MyString(str):\n",
    "    @change_outp_class()\n",
    "    def reverse(self):\n",
    "        return self[::-1]\n",
    "    \n",
    "    @change_outp_class()\n",
    "    def make_uppercase(self):\n",
    "        return \"\".join([chr(ord(char) - 32) if 97 <= ord(char) <= 122 else char for char in self])\n",
    "    \n",
    "    @change_outp_class()\n",
    "    def make_lowercase(self):\n",
    "        return \"\".join([chr(ord(char) + 32) if 65 <= ord(char) <= 90 else char for char in self])\n",
    "    \n",
    "    @change_outp_class()\n",
    "    def capitalize_words(self):\n",
    "        return \" \".join([word.capitalize() for word in self.split()])\n",
    "    \n",
    "    \n",
    "class MySet(set):\n",
    "    def is_empty(self):\n",
    "        return len(self) == 0\n",
    "    \n",
    "    def has_duplicates(self):\n",
    "        return len(self) != len(set(self))\n",
    "    \n",
    "    @change_outp_class()\n",
    "    def union_with(self, other):\n",
    "        return self.union(other)\n",
    "    \n",
    "    def intersection_with(self, other):\n",
    "        return self.intersection(other)\n",
    "    \n",
    "    @change_outp_class()\n",
    "    def difference_with(self, other):\n",
    "        return self.difference(other)"
   ]
  },
  {
   "cell_type": "code",
   "execution_count": 23,
   "id": "8b985a7b-ddf2-47ce-8b76-a4dd921a2e06",
   "metadata": {},
   "outputs": [
    {
     "name": "stdout",
     "output_type": "stream",
     "text": [
      "<class '__main__.MyString'>\n",
      "<class '__main__.MyString'>\n",
      "<class '__main__.MyString'>\n",
      "<class '__main__.MyString'>\n",
      "\n",
      "<class 'bool'>\n",
      "<class 'bool'>\n",
      "<class '__main__.MySet'>\n",
      "<class '__main__.MySet'>\n"
     ]
    }
   ],
   "source": [
    "string_example = MyString(\"Aa Bb Cc\")\n",
    "set_example_1 = MySet({1, 2, 3, 4})\n",
    "set_example_2 = MySet({3, 4, 5, 6, 6})\n",
    "\n",
    "print(type(string_example.reverse()))\n",
    "print(type(string_example.make_uppercase()))\n",
    "print(type(string_example.make_lowercase()))\n",
    "print(type(string_example.capitalize_words()))\n",
    "print()\n",
    "print(type(set_example_1.is_empty()))\n",
    "print(type(set_example_2.has_duplicates()))\n",
    "print(type(set_example_1.union_with(set_example_2)))\n",
    "print(type(set_example_1.difference_with(set_example_2)))"
   ]
  },
  {
   "cell_type": "code",
   "execution_count": null,
   "id": "b287d883-da95-4917-a8e8-036e16e50081",
   "metadata": {},
   "outputs": [],
   "source": []
  },
  {
   "cell_type": "markdown",
   "id": "e5560568-138d-456d-b505-6ea02274e364",
   "metadata": {
    "jp-MarkdownHeadingCollapsed": true,
    "tags": []
   },
   "source": [
    "### (черновик)"
   ]
  },
  {
   "cell_type": "code",
   "execution_count": 62,
   "id": "7973388e-c16f-437f-a1af-30ddd69f7671",
   "metadata": {
    "collapsed": true,
    "jupyter": {
     "outputs_hidden": true
    },
    "tags": []
   },
   "outputs": [],
   "source": [
    "def change_outp_class(attr):\n",
    "    def wrapp(func, *args, **kwargs):\n",
    "        method = getattr(MyString, attr)\n",
    "        print(attr, func, method)\n",
    "        print(*args, **kwargs)\n",
    "        result = method(*args, **kwargs)\n",
    "        # print(result)\n",
    "        def inner_func(*args, **kwargs):\n",
    "            print('hi')\n",
    "            result = func(*args, **kwargs)\n",
    "            # print(result)\n",
    "            return MyString(result)\n",
    "        return inner_func\n",
    "    return wrapp\n",
    "\n",
    "\n",
    "def for_all_methods(decorator):\n",
    "    def decorate(cls):\n",
    "        method_list = [m for m in dir(MyString) if not m.startswith('__')]\n",
    "        for func in method_list:\n",
    "            setattr(cls, func, decorator(func))\n",
    "        return cls\n",
    "    return decorate\n",
    "\n",
    "\n",
    "@for_all_methods(change_outp_class)\n",
    "class MyString(str):\n",
    "    def reverse(self):\n",
    "        return self[::-1]\n",
    "    \n",
    "    def make_uppercase(self):\n",
    "        return \"\".join([chr(ord(char) - 32) if 97 <= ord(char) <= 122 else char for char in self])\n",
    "    \n",
    "    def make_lowercase(self):\n",
    "        return \"\".join([chr(ord(char) + 32) if 65 <= ord(char) <= 90 else char for char in self])\n",
    "    \n",
    "    def capitalize_words(self):\n",
    "        return \" \".join([word.capitalize() for word in self.split()])\n",
    "    \n",
    "    \n",
    "class MySet(set):\n",
    "    def is_empty(self):\n",
    "        return len(self) == 0\n",
    "    \n",
    "    def has_duplicates(self):\n",
    "        return len(self) != len(set(self))\n",
    "    \n",
    "    def union_with(self, other):\n",
    "        return self.union(other)\n",
    "    \n",
    "    def intersection_with(self, other):\n",
    "        return self.intersection(other)\n",
    "    \n",
    "    def difference_with(self, other):\n",
    "        return self.difference(other)"
   ]
  },
  {
   "cell_type": "code",
   "execution_count": 60,
   "id": "32ea40ae-6a4d-4aea-943e-95a540a9d66d",
   "metadata": {},
   "outputs": [
    {
     "name": "stdout",
     "output_type": "stream",
     "text": [
      "replace Aa Bb Cc <function change_outp_class.<locals>.wrapp at 0x7f7058ac7160>\n",
      "a x\n",
      "replace a <function change_outp_class.<locals>.wrapp at 0x7f7058ac7160>\n",
      "x\n",
      "replace x <function change_outp_class.<locals>.wrapp at 0x7f7058ac7160>\n",
      "\n"
     ]
    },
    {
     "ename": "TypeError",
     "evalue": "wrapp() missing 1 required positional argument: 'func'",
     "output_type": "error",
     "traceback": [
      "\u001b[0;31m---------------------------------------------------------------------------\u001b[0m",
      "\u001b[0;31mTypeError\u001b[0m                                 Traceback (most recent call last)",
      "Cell \u001b[0;32mIn[60], line 3\u001b[0m\n\u001b[1;32m      1\u001b[0m string_example \u001b[38;5;241m=\u001b[39m MyString(\u001b[38;5;124m\"\u001b[39m\u001b[38;5;124mAa Bb Cc\u001b[39m\u001b[38;5;124m\"\u001b[39m)\n\u001b[1;32m      2\u001b[0m \u001b[38;5;66;03m# print(type(string_example.replace('a','x')))\u001b[39;00m\n\u001b[0;32m----> 3\u001b[0m \u001b[43mstring_example\u001b[49m\u001b[38;5;241;43m.\u001b[39;49m\u001b[43mreplace\u001b[49m\u001b[43m(\u001b[49m\u001b[38;5;124;43m'\u001b[39;49m\u001b[38;5;124;43ma\u001b[39;49m\u001b[38;5;124;43m'\u001b[39;49m\u001b[43m,\u001b[49m\u001b[38;5;124;43m'\u001b[39;49m\u001b[38;5;124;43mx\u001b[39;49m\u001b[38;5;124;43m'\u001b[39;49m\u001b[43m)\u001b[49m\n",
      "Cell \u001b[0;32mIn[59], line 6\u001b[0m, in \u001b[0;36mchange_outp_class.<locals>.wrapp\u001b[0;34m(func, *args, **kwargs)\u001b[0m\n\u001b[1;32m      4\u001b[0m \u001b[38;5;28mprint\u001b[39m(attr, func, method)\n\u001b[1;32m      5\u001b[0m \u001b[38;5;28mprint\u001b[39m(\u001b[38;5;241m*\u001b[39margs, \u001b[38;5;241m*\u001b[39m\u001b[38;5;241m*\u001b[39mkwargs)\n\u001b[0;32m----> 6\u001b[0m result \u001b[38;5;241m=\u001b[39m \u001b[43mmethod\u001b[49m\u001b[43m(\u001b[49m\u001b[38;5;241;43m*\u001b[39;49m\u001b[43margs\u001b[49m\u001b[43m,\u001b[49m\u001b[43m \u001b[49m\u001b[38;5;241;43m*\u001b[39;49m\u001b[38;5;241;43m*\u001b[39;49m\u001b[43mkwargs\u001b[49m\u001b[43m)\u001b[49m\n\u001b[1;32m      7\u001b[0m \u001b[38;5;66;03m# print(result)\u001b[39;00m\n\u001b[1;32m      8\u001b[0m \u001b[38;5;28;01mdef\u001b[39;00m \u001b[38;5;21minner_func\u001b[39m(\u001b[38;5;241m*\u001b[39margs, \u001b[38;5;241m*\u001b[39m\u001b[38;5;241m*\u001b[39mkwargs):\n",
      "Cell \u001b[0;32mIn[59], line 6\u001b[0m, in \u001b[0;36mchange_outp_class.<locals>.wrapp\u001b[0;34m(func, *args, **kwargs)\u001b[0m\n\u001b[1;32m      4\u001b[0m \u001b[38;5;28mprint\u001b[39m(attr, func, method)\n\u001b[1;32m      5\u001b[0m \u001b[38;5;28mprint\u001b[39m(\u001b[38;5;241m*\u001b[39margs, \u001b[38;5;241m*\u001b[39m\u001b[38;5;241m*\u001b[39mkwargs)\n\u001b[0;32m----> 6\u001b[0m result \u001b[38;5;241m=\u001b[39m \u001b[43mmethod\u001b[49m\u001b[43m(\u001b[49m\u001b[38;5;241;43m*\u001b[39;49m\u001b[43margs\u001b[49m\u001b[43m,\u001b[49m\u001b[43m \u001b[49m\u001b[38;5;241;43m*\u001b[39;49m\u001b[38;5;241;43m*\u001b[39;49m\u001b[43mkwargs\u001b[49m\u001b[43m)\u001b[49m\n\u001b[1;32m      7\u001b[0m \u001b[38;5;66;03m# print(result)\u001b[39;00m\n\u001b[1;32m      8\u001b[0m \u001b[38;5;28;01mdef\u001b[39;00m \u001b[38;5;21minner_func\u001b[39m(\u001b[38;5;241m*\u001b[39margs, \u001b[38;5;241m*\u001b[39m\u001b[38;5;241m*\u001b[39mkwargs):\n",
      "Cell \u001b[0;32mIn[59], line 6\u001b[0m, in \u001b[0;36mchange_outp_class.<locals>.wrapp\u001b[0;34m(func, *args, **kwargs)\u001b[0m\n\u001b[1;32m      4\u001b[0m \u001b[38;5;28mprint\u001b[39m(attr, func, method)\n\u001b[1;32m      5\u001b[0m \u001b[38;5;28mprint\u001b[39m(\u001b[38;5;241m*\u001b[39margs, \u001b[38;5;241m*\u001b[39m\u001b[38;5;241m*\u001b[39mkwargs)\n\u001b[0;32m----> 6\u001b[0m result \u001b[38;5;241m=\u001b[39m \u001b[43mmethod\u001b[49m\u001b[43m(\u001b[49m\u001b[38;5;241;43m*\u001b[39;49m\u001b[43margs\u001b[49m\u001b[43m,\u001b[49m\u001b[43m \u001b[49m\u001b[38;5;241;43m*\u001b[39;49m\u001b[38;5;241;43m*\u001b[39;49m\u001b[43mkwargs\u001b[49m\u001b[43m)\u001b[49m\n\u001b[1;32m      7\u001b[0m \u001b[38;5;66;03m# print(result)\u001b[39;00m\n\u001b[1;32m      8\u001b[0m \u001b[38;5;28;01mdef\u001b[39;00m \u001b[38;5;21minner_func\u001b[39m(\u001b[38;5;241m*\u001b[39margs, \u001b[38;5;241m*\u001b[39m\u001b[38;5;241m*\u001b[39mkwargs):\n",
      "\u001b[0;31mTypeError\u001b[0m: wrapp() missing 1 required positional argument: 'func'"
     ]
    }
   ],
   "source": [
    "string_example = MyString(\"Aa Bb Cc\")\n",
    "# print(type(string_example.replace('a','x')))\n",
    "string_example.replace('a','x')"
   ]
  },
  {
   "cell_type": "code",
   "execution_count": 61,
   "id": "267e54b7-6b94-45be-a677-674271189f1e",
   "metadata": {},
   "outputs": [
    {
     "name": "stdout",
     "output_type": "stream",
     "text": [
      "reverse Aa Bb Cc <function change_outp_class.<locals>.wrapp at 0x7f7058ac70d0>\n",
      "\n"
     ]
    },
    {
     "ename": "TypeError",
     "evalue": "wrapp() missing 1 required positional argument: 'func'",
     "output_type": "error",
     "traceback": [
      "\u001b[0;31m---------------------------------------------------------------------------\u001b[0m",
      "\u001b[0;31mTypeError\u001b[0m                                 Traceback (most recent call last)",
      "Cell \u001b[0;32mIn[61], line 1\u001b[0m\n\u001b[0;32m----> 1\u001b[0m \u001b[43mstring_example\u001b[49m\u001b[38;5;241;43m.\u001b[39;49m\u001b[43mreverse\u001b[49m\u001b[43m(\u001b[49m\u001b[43m)\u001b[49m\n",
      "Cell \u001b[0;32mIn[59], line 6\u001b[0m, in \u001b[0;36mchange_outp_class.<locals>.wrapp\u001b[0;34m(func, *args, **kwargs)\u001b[0m\n\u001b[1;32m      4\u001b[0m \u001b[38;5;28mprint\u001b[39m(attr, func, method)\n\u001b[1;32m      5\u001b[0m \u001b[38;5;28mprint\u001b[39m(\u001b[38;5;241m*\u001b[39margs, \u001b[38;5;241m*\u001b[39m\u001b[38;5;241m*\u001b[39mkwargs)\n\u001b[0;32m----> 6\u001b[0m result \u001b[38;5;241m=\u001b[39m \u001b[43mmethod\u001b[49m\u001b[43m(\u001b[49m\u001b[38;5;241;43m*\u001b[39;49m\u001b[43margs\u001b[49m\u001b[43m,\u001b[49m\u001b[43m \u001b[49m\u001b[38;5;241;43m*\u001b[39;49m\u001b[38;5;241;43m*\u001b[39;49m\u001b[43mkwargs\u001b[49m\u001b[43m)\u001b[49m\n\u001b[1;32m      7\u001b[0m \u001b[38;5;66;03m# print(result)\u001b[39;00m\n\u001b[1;32m      8\u001b[0m \u001b[38;5;28;01mdef\u001b[39;00m \u001b[38;5;21minner_func\u001b[39m(\u001b[38;5;241m*\u001b[39margs, \u001b[38;5;241m*\u001b[39m\u001b[38;5;241m*\u001b[39mkwargs):\n",
      "\u001b[0;31mTypeError\u001b[0m: wrapp() missing 1 required positional argument: 'func'"
     ]
    }
   ],
   "source": [
    "string_example.reverse()"
   ]
  },
  {
   "cell_type": "code",
   "execution_count": 13,
   "id": "fac3dcfe-a23c-4863-aeb8-f186ba0baa86",
   "metadata": {},
   "outputs": [
    {
     "name": "stdout",
     "output_type": "stream",
     "text": [
      "<class 'function'>\n",
      "<class 'function'>\n",
      "<class 'function'>\n",
      "<class 'function'>\n",
      "\n",
      "<class 'bool'>\n",
      "<class 'bool'>\n",
      "<class 'set'>\n",
      "<class 'set'>\n"
     ]
    }
   ],
   "source": [
    "string_example = MyString(\"Aa Bb Cc\")\n",
    "set_example_1 = MySet({1, 2, 3, 4})\n",
    "set_example_2 = MySet({3, 4, 5, 6, 6})\n",
    "\n",
    "print(type(string_example.reverse()))\n",
    "print(type(string_example.make_uppercase()))\n",
    "print(type(string_example.make_lowercase()))\n",
    "print(type(string_example.capitalize_words()))\n",
    "print()\n",
    "print(type(set_example_1.is_empty()))\n",
    "print(type(set_example_2.has_duplicates()))\n",
    "print(type(set_example_1.union_with(set_example_2)))\n",
    "print(type(set_example_1.difference_with(set_example_2)))"
   ]
  },
  {
   "cell_type": "markdown",
   "id": "25701114-a84a-463a-8628-4009159c4628",
   "metadata": {},
   "source": [
    "\n",
    "\n",
    "https://stackoverflow.com/questions/23224383/how-to-decorate-all-methods-in-a-class-can-i-just-decorate-the-class\n",
    "\n",
    "https://stackoverflow.com/questions/6307761/how-to-decorate-all-functions-of-a-class-without-typing-it-over-and-over-for-eac\n",
    "\n",
    "https://stackoverflow.com/questions/3467526/attaching-a-decorator-to-all-functions-within-a-class\n",
    "\n",
    "https://stackoverflow.com/questions/64120338/how-to-inherit-a-method-properly-from-parent-class-without-changing-the-parent-c"
   ]
  },
  {
   "cell_type": "code",
   "execution_count": null,
   "id": "2cac2d26-806c-425f-b7e0-04d576b2b54b",
   "metadata": {},
   "outputs": [],
   "source": []
  },
  {
   "cell_type": "code",
   "execution_count": 9,
   "id": "be427017-7aca-4573-8586-2c4e6cf32c8d",
   "metadata": {},
   "outputs": [
    {
     "data": {
      "text/plain": [
       "(str,)"
      ]
     },
     "execution_count": 9,
     "metadata": {},
     "output_type": "execute_result"
    }
   ],
   "source": [
    "MyString.__bases__"
   ]
  },
  {
   "cell_type": "markdown",
   "id": "f246ecea-9aaa-45c6-98e4-996dc9cdce14",
   "metadata": {
    "tags": []
   },
   "source": [
    "# Задание 4 (5 баллов)"
   ]
  },
  {
   "cell_type": "markdown",
   "id": "e66831d7-df9c-4778-9942-bbb8796fef1e",
   "metadata": {},
   "source": [
    "Напишите декоратор `switch_privacy`:\n",
    "1. Делает все публичные **методы** класса приватными\n",
    "2. Делает все приватные методы класса публичными\n",
    "3. Dunder методы и защищённые методы остаются без изменений\n",
    "4. Должен работать тестовый код ниже, в теле класса писать код нельзя\n",
    "\n",
    "**Модули использовать нельзя**"
   ]
  },
  {
   "cell_type": "code",
   "execution_count": 174,
   "id": "78ae0f22-1abe-4cae-bb1e-43fd88667b70",
   "metadata": {
    "tags": []
   },
   "outputs": [],
   "source": [
    "def сhange_privacy(cls):\n",
    "    public_methods = [m for m in dir(cls) if not m.startswith('_')]\n",
    "    private_methods = [m for m in dir(cls) if m.startswith(f'_{cls.__name__}__')]\n",
    "        # print(public_methods,'\\n', private_methods)\n",
    "\n",
    "    for method in public_methods:\n",
    "        new_name = f'_{cls.__name__}__' + method\n",
    "        setattr(cls, new_name, getattr(cls, method))\n",
    "        delattr(cls, method)\n",
    "\n",
    "    for method in private_methods:\n",
    "        new_name = method.removeprefix(f'_{cls.__name__}__')\n",
    "        setattr(cls, new_name, getattr(cls, method))\n",
    "        delattr(cls, method)\n",
    "\n",
    "    public_methods = [m for m in dir(cls) if not m.startswith('_')]\n",
    "    private_methods = [m for m in dir(cls) if m.startswith(f'_{cls.__name__}__')]\n",
    "    return cls\n",
    "\n",
    "\n"
   ]
  },
  {
   "cell_type": "code",
   "execution_count": 176,
   "id": "733db8d6-87b8-4797-97be-d3b901422ded",
   "metadata": {},
   "outputs": [],
   "source": [
    "@сhange_privacy\n",
    "class ExampleClass:\n",
    "    # Но не здесь\n",
    "    def public_method(self):\n",
    "        return 1\n",
    "    \n",
    "    def _protected_method(self):\n",
    "        return 2\n",
    "    \n",
    "    def __private_method(self):\n",
    "        return 3\n",
    "    \n",
    "    def __dunder_method__(self):\n",
    "        pass"
   ]
  },
  {
   "cell_type": "code",
   "execution_count": 177,
   "id": "c936077d-e618-459c-bbcc-6ad1b22d0975",
   "metadata": {},
   "outputs": [
    {
     "data": {
      "text/plain": [
       "1"
      ]
     },
     "execution_count": 177,
     "metadata": {},
     "output_type": "execute_result"
    }
   ],
   "source": [
    "test_object = ExampleClass()\n",
    "\n",
    "test_object._ExampleClass__public_method()   # Публичный метод стал приватным"
   ]
  },
  {
   "cell_type": "code",
   "execution_count": 178,
   "id": "10603672-80cf-460c-9305-d0950094419d",
   "metadata": {},
   "outputs": [
    {
     "data": {
      "text/plain": [
       "3"
      ]
     },
     "execution_count": 178,
     "metadata": {},
     "output_type": "execute_result"
    }
   ],
   "source": [
    "test_object.private_method()   # Приватный метод стал публичным"
   ]
  },
  {
   "cell_type": "code",
   "execution_count": 179,
   "id": "f30b1ef8-0f80-482d-89f1-09caece61c88",
   "metadata": {},
   "outputs": [
    {
     "data": {
      "text/plain": [
       "2"
      ]
     },
     "execution_count": 179,
     "metadata": {},
     "output_type": "execute_result"
    }
   ],
   "source": [
    "test_object._protected_method()   # Защищённый метод остался защищённым"
   ]
  },
  {
   "cell_type": "code",
   "execution_count": 180,
   "id": "71d51e6e-62b5-4440-af3e-75088761b1bf",
   "metadata": {},
   "outputs": [],
   "source": [
    "test_object.__dunder_method__()   # Дандер метод не изменился"
   ]
  },
  {
   "cell_type": "code",
   "execution_count": 181,
   "id": "a97cf0c4-4881-441c-83b6-ef8955377585",
   "metadata": {},
   "outputs": [
    {
     "data": {
      "text/plain": [
       "(False, False)"
      ]
     },
     "execution_count": 181,
     "metadata": {},
     "output_type": "execute_result"
    }
   ],
   "source": [
    "hasattr(test_object, \"public_method\"), hasattr(test_object, \"private\")   # Изначальные варианты изменённых методов не сохраняются"
   ]
  },
  {
   "cell_type": "code",
   "execution_count": null,
   "id": "0397f141-b3ad-46ee-b28d-415b20184f7a",
   "metadata": {},
   "outputs": [],
   "source": []
  },
  {
   "cell_type": "markdown",
   "id": "2d34d9d4-370d-4a3a-a6eb-d4bb47de73cd",
   "metadata": {
    "jp-MarkdownHeadingCollapsed": true,
    "tags": []
   },
   "source": [
    "### (черновик)"
   ]
  },
  {
   "cell_type": "markdown",
   "id": "eb8e7029-6c52-46d2-9e03-0e055722374b",
   "metadata": {},
   "source": [
    "Напишите декоратор `switch_privacy`:\n",
    "1. Делает все публичные **методы** класса приватными\n",
    "2. Делает все приватные методы класса публичными\n",
    "3. Dunder методы и защищённые методы остаются без изменений\n",
    "4. Должен работать тестовый код ниже, в теле класса писать код нельзя\n",
    "\n",
    "**Модули использовать нельзя**"
   ]
  },
  {
   "cell_type": "code",
   "execution_count": null,
   "id": "29de4ded-d14b-43ac-b1bc-4ba36707e303",
   "metadata": {
    "tags": []
   },
   "outputs": [],
   "source": [
    "# def сhange_privacy(cls):\n",
    "#     def decorate():\n",
    "#         public_methods = [m for m in dir(cls) if not m.startswith('_')]\n",
    "#         private_methods = [m for m in dir(cls) if m.startswith(f'_{cls.__name__}__')]\n",
    "#         # print(public_methods,'\\n', private_methods)\n",
    "\n",
    "#         for method in public_methods:\n",
    "#             new_name = f'_{cls.__name__}__' + method\n",
    "#             setattr(cls, new_name, getattr(cls, method))\n",
    "#             delattr(cls, method)\n",
    "\n",
    "#         for method in private_methods:\n",
    "#             new_name = method.removeprefix(f'_{cls.__name__}__')\n",
    "#             setattr(cls, new_name, getattr(cls, method))\n",
    "#             delattr(cls, method)\n",
    "\n",
    "#         public_methods = [m for m in dir(cls) if not m.startswith('_')]\n",
    "#         private_methods = [m for m in dir(cls) if m.startswith(f'_{cls.__name__}__')]\n",
    "#         return cls\n",
    "#     return decorate\n",
    "# ???????\n",
    "\n"
   ]
  },
  {
   "cell_type": "code",
   "execution_count": 158,
   "id": "63d71bd4-fcd6-476c-ac71-9bc0b85d52d0",
   "metadata": {
    "tags": []
   },
   "outputs": [],
   "source": [
    "def сhange_privacy(cls):\n",
    "    public_methods = [m for m in dir(cls) if not m.startswith('_')]\n",
    "    private_methods = [m for m in dir(cls) if m.startswith(f'_{cls.__name__}__')]\n",
    "        # print(public_methods,'\\n', private_methods)\n",
    "\n",
    "    for method in public_methods:\n",
    "        new_name = f'_{cls.__name__}__' + method\n",
    "        setattr(cls, new_name, getattr(cls, method))\n",
    "        delattr(cls, method)\n",
    "\n",
    "    for method in private_methods:\n",
    "        new_name = method.removeprefix(f'_{cls.__name__}__')\n",
    "        setattr(cls, new_name, getattr(cls, method))\n",
    "        delattr(cls, method)\n",
    "\n",
    "    public_methods = [m for m in dir(cls) if not m.startswith('_')]\n",
    "    private_methods = [m for m in dir(cls) if m.startswith(f'_{cls.__name__}__')]\n",
    "    return cls\n",
    "\n",
    "\n"
   ]
  },
  {
   "cell_type": "code",
   "execution_count": 162,
   "id": "c81df92a-ce98-40f3-8013-65d2da19a11d",
   "metadata": {},
   "outputs": [],
   "source": [
    "@сhange_privacy\n",
    "class ExampleClass:\n",
    "    # Но не здесь\n",
    "    def public_method(self):\n",
    "        return 1\n",
    "    \n",
    "    def _protected_method(self):\n",
    "        return 2\n",
    "    \n",
    "    def __private_method(self):\n",
    "        return 3\n",
    "    \n",
    "    def __dunder_method__(self):\n",
    "        pass"
   ]
  },
  {
   "cell_type": "code",
   "execution_count": 160,
   "id": "1977f1d1-1931-42d3-84b4-cebafa3cf295",
   "metadata": {
    "collapsed": true,
    "jupyter": {
     "outputs_hidden": true
    },
    "tags": []
   },
   "outputs": [
    {
     "data": {
      "text/plain": [
       "['_ExampleClass__public_method',\n",
       " '__class__',\n",
       " '__delattr__',\n",
       " '__dict__',\n",
       " '__dir__',\n",
       " '__doc__',\n",
       " '__dunder_method__',\n",
       " '__eq__',\n",
       " '__format__',\n",
       " '__ge__',\n",
       " '__getattribute__',\n",
       " '__gt__',\n",
       " '__hash__',\n",
       " '__init__',\n",
       " '__init_subclass__',\n",
       " '__le__',\n",
       " '__lt__',\n",
       " '__module__',\n",
       " '__ne__',\n",
       " '__new__',\n",
       " '__reduce__',\n",
       " '__reduce_ex__',\n",
       " '__repr__',\n",
       " '__setattr__',\n",
       " '__sizeof__',\n",
       " '__str__',\n",
       " '__subclasshook__',\n",
       " '__weakref__',\n",
       " '_protected_method',\n",
       " 'private_method']"
      ]
     },
     "execution_count": 160,
     "metadata": {},
     "output_type": "execute_result"
    }
   ],
   "source": [
    "dir(ExampleClass())"
   ]
  },
  {
   "cell_type": "code",
   "execution_count": 164,
   "id": "fe227426-c875-4dc2-b7bd-8360273c0b1e",
   "metadata": {},
   "outputs": [
    {
     "data": {
      "text/plain": [
       "1"
      ]
     },
     "execution_count": 164,
     "metadata": {},
     "output_type": "execute_result"
    }
   ],
   "source": [
    "test_object = ExampleClass()\n",
    "\n",
    "test_object._ExampleClass__public_method()   # Публичный метод стал приватным"
   ]
  },
  {
   "cell_type": "code",
   "execution_count": 165,
   "id": "581504c9-a88b-45bc-a2c9-15f04cdafcdc",
   "metadata": {},
   "outputs": [
    {
     "data": {
      "text/plain": [
       "3"
      ]
     },
     "execution_count": 165,
     "metadata": {},
     "output_type": "execute_result"
    }
   ],
   "source": [
    "test_object.private_method()   # Приватный метод стал публичным"
   ]
  },
  {
   "cell_type": "code",
   "execution_count": 166,
   "id": "28e8f09b-73de-4777-a4dc-d4bc833882ae",
   "metadata": {},
   "outputs": [
    {
     "data": {
      "text/plain": [
       "2"
      ]
     },
     "execution_count": 166,
     "metadata": {},
     "output_type": "execute_result"
    }
   ],
   "source": [
    "test_object._protected_method()   # Защищённый метод остался защищённым"
   ]
  },
  {
   "cell_type": "code",
   "execution_count": 167,
   "id": "9a54bb7c-42e1-4abc-b8a1-e51eae73acc3",
   "metadata": {},
   "outputs": [],
   "source": [
    "test_object.__dunder_method__()   # Дандер метод не изменился"
   ]
  },
  {
   "cell_type": "code",
   "execution_count": 168,
   "id": "b60c65e4-caa4-42f5-be52-86396eab8c04",
   "metadata": {},
   "outputs": [
    {
     "data": {
      "text/plain": [
       "(False, False)"
      ]
     },
     "execution_count": 168,
     "metadata": {},
     "output_type": "execute_result"
    }
   ],
   "source": [
    "hasattr(test_object, \"public_method\"), hasattr(test_object, \"private\")   # Изначальные варианты изменённых методов не сохраняются"
   ]
  },
  {
   "cell_type": "code",
   "execution_count": null,
   "id": "3944a293-85d8-47cd-b8e9-7beee11bf121",
   "metadata": {},
   "outputs": [],
   "source": []
  },
  {
   "cell_type": "markdown",
   "id": "31ad0bdd-9a24-4d6c-a499-e975b4b6acdd",
   "metadata": {},
   "source": [
    "# Задание 5 (7 баллов)"
   ]
  },
  {
   "cell_type": "markdown",
   "id": "68c75d25-37f7-491d-bcc0-ba74e8bdb364",
   "metadata": {},
   "source": [
    "Напишите [контекстный менеджер](https://docs.python.org/3/library/stdtypes.html#context-manager-types) `OpenFasta`\n",
    "\n",
    "Контекстные менеджеры это специальные объекты, которые могут работать с конструкцией `with ... as ...:`. В них нет ничего сложного, для их реализации как обычно нужно только определить только пару dunder методов. Изучите этот вопрос самостоятельно\n",
    "\n",
    "1. Объект должен работать как обычные файлы в питоне (наследоваться не надо, здесь лучше будет использовать **композицию**), но:\n",
    "    + При итерации по объекту мы должны будем получать не строку из файла, а специальный объект `FastaRecord`. Он будет хранить в себе информацию о последовательности. Важно, **не строки, а именно последовательности**, в fasta файлах последовательность часто разбивают на много строк\n",
    "    + Нужно написать методы `read_record` и `read_records`, которые по смыслу соответствуют `readline()` и `readlines()` в обычных файлах, но они должны выдавать не строки, а объект(ы) `FastaRecord`\n",
    "2. Конструктор должен принимать один аргумент - **путь к файлу**\n",
    "3. Класс должен эффективно распоряжаться памятью, с расчётом на работу с очень большими файлами\n",
    "    \n",
    "Объект `FastaRecord`. Это должен быть **датакласс** (см. про примеры декораторов в соответствующей лекции) с тремя полями:\n",
    "+ `seq` - последовательность\n",
    "+ `id_` - ID последовательности (это то, что в фаста файле в строке, которая начинается с `>` до первого пробела. Например, >**GTD326487.1** Species anonymous 24 chromosome) \n",
    "+ `description` - то, что осталось после ID (Например, >GTD326487.1 **Species anonymous 24 chromosome**)\n",
    "\n",
    "\n",
    "Напишите демонстрацию работы кода с использованием всех написанных методов, обязательно добавьте файл с тестовыми данными в репозиторий (не обязательно большой)\n",
    "\n",
    "**Можно использовать модули из стандартной библиотеки**"
   ]
  },
  {
   "cell_type": "code",
   "execution_count": 153,
   "id": "5188b5d5-1e6e-4b11-9b54-9ba809210dfc",
   "metadata": {},
   "outputs": [],
   "source": [
    "# Ваш код здесь\n",
    "\n",
    "\n",
    "with OpenFasta(os.path.join(\"data\", \"example.fasta\")) as fasta:\n",
    "    # Ваш код здесь\n",
    "    pass"
   ]
  },
  {
   "cell_type": "markdown",
   "id": "4db652e9-7697-4dd7-bcc3-649bdc18c1c4",
   "metadata": {},
   "source": [
    "# Задание 6 (7 баллов)"
   ]
  },
  {
   "cell_type": "markdown",
   "id": "a8ba05f3-29f0-48be-a477-c1f61a9e0537",
   "metadata": {},
   "source": [
    "1. Напишите код, который позволит получать все возможные (неуникальные) генотипы при скрещивании двух организмов. Это может быть функция или класс, что вам кажется более удобным.\n",
    "\n",
    "Например, все возможные исходы скрещивания \"Aabb\" и \"Aabb\" (неуникальные) это\n",
    "\n",
    "```\n",
    "AAbb\n",
    "AAbb\n",
    "AAbb\n",
    "AAbb\n",
    "Aabb\n",
    "Aabb\n",
    "Aabb\n",
    "Aabb\n",
    "Aabb\n",
    "Aabb\n",
    "Aabb\n",
    "Aabb\n",
    "aabb\n",
    "aabb\n",
    "aabb\n",
    "aabb\n",
    "```\n",
    "\n",
    "2. Напишите функцию, которая вычисляет вероятность появления определённого генотипа (его ожидаемую долю в потомстве).\n",
    "Например,\n",
    "\n",
    "```python\n",
    "get_offspting_genotype_probability(parent1=\"Aabb\", parent2=\"Aabb\", target_genotype=\"Аabb\")   # 0.5\n",
    "\n",
    "```\n",
    "\n",
    "3. Напишите код, который выводит все уникальные генотипы при скрещивании `'АаБбввГгДдЕеЖжЗзИиЙйккЛлМмНн'` и `'АаббВвГгДДЕеЖжЗзИиЙйКкЛлМмНН'`, которые содержат в себе следующую комбинацию аллелей `'АаБбВвГгДдЕеЖжЗзИиЙйКкЛл'`\n",
    "4. Напишите код, который расчитывает вероятность появления генотипа `'АаБбввГгДдЕеЖжЗзИиЙйккЛлМмНн'` при скрещивании `АаБбВвГгДдЕеЖжЗзИиЙйКкЛлМмНн` и `АаБбВвГгДдЕеЖжЗзИиЙйКкЛлМмНн`\n",
    "\n",
    "Важные замечания:\n",
    "1. Порядок следования аллелей в случае гетерозигот всегда должен быть следующим: сначала большая буква, затем маленькая (вариант `AaBb` допустим, но `aAbB` быть не должно)\n",
    "2. Подзадачи 3 и 4 могут потребовать много вычислительного времени (до 15+ минут в зависимости от железа), поэтому убедитесь, что вы хорошо протестировали написанный вами код на малых данных перед выполнением этих задач. Если ваш код работает **дольше 20 мин**, то скорее всего ваше решение не оптимально, попытайтесь что-нибудь оптимизировать. Если оптимальное решение совсем не получается, то попробуйте из входных данных во всех заданиях убрать последний ген (это должно уменьшить время выполнения примерно в 4 раза), но **за такое решение будет снято 2 балла**\n",
    "3. Несмотря на то, что подзадания 2, 3 и 4 возможно решить математически, не прибегая к непосредственному получению всех возможных генотипов, от вас требуется именно brute-force вариант алгоритма\n",
    "\n",
    "**Можно использовать модули из стандартной библиотеки питона**, но **за выполнение задания без использования модулей придусмотрено +3 дополнительных балла**"
   ]
  },
  {
   "cell_type": "code",
   "execution_count": 18,
   "id": "c64841e9-dfcd-45bb-bcaa-d672ea03a744",
   "metadata": {
    "tags": []
   },
   "outputs": [],
   "source": [
    "# Ваш код здесь (1 и 2 подзадание)"
   ]
  },
  {
   "cell_type": "code",
   "execution_count": 20,
   "id": "fdfb6d8c-0da7-4857-9579-6921dc409eb3",
   "metadata": {
    "tags": []
   },
   "outputs": [],
   "source": [
    "# Ваш код здесь (3 подзадание)"
   ]
  },
  {
   "cell_type": "code",
   "execution_count": 21,
   "id": "3e8a17cc-0642-49ae-ba6b-51ab5499660e",
   "metadata": {},
   "outputs": [],
   "source": [
    "# Ваш код здесь (4 подзадание)"
   ]
  }
 ],
 "metadata": {
  "kernelspec": {
   "display_name": "Python 3 (ipykernel)",
   "language": "python",
   "name": "python3"
  },
  "language_info": {
   "codemirror_mode": {
    "name": "ipython",
    "version": 3
   },
   "file_extension": ".py",
   "mimetype": "text/x-python",
   "name": "python",
   "nbconvert_exporter": "python",
   "pygments_lexer": "ipython3",
   "version": "3.9.13"
  }
 },
 "nbformat": 4,
 "nbformat_minor": 5
}
