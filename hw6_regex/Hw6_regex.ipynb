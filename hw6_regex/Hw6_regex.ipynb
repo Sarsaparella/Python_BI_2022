{
 "cells": [
  {
   "cell_type": "code",
   "execution_count": null,
   "id": "4189541e-abf5-4c3b-b681-5fb3e6340cc4",
   "metadata": {},
   "outputs": [],
   "source": [
    "OS: Ubuntu 20.04.2 LTS"
   ]
  },
  {
   "cell_type": "code",
   "execution_count": 2,
   "id": "a5646adc-d018-4b7b-b759-fc2f40f0e567",
   "metadata": {},
   "outputs": [],
   "source": [
    "import re\n",
    "import pandas as pd\n",
    "import seaborn as sns\n",
    "import matplotlib.pyplot as plt"
   ]
  },
  {
   "cell_type": "markdown",
   "id": "daf0a4d0-fa51-4043-ac9f-a66e8e57ef22",
   "metadata": {},
   "source": [
    "**1. Распарсите файл references при помощи регулярных выражений и запишите оттуда все ftp ссылки в файл ftps (5 баллов)**\n"
   ]
  },
  {
   "cell_type": "code",
   "execution_count": 80,
   "id": "7e98d009-2ed7-4316-9166-6a8326ae4c27",
   "metadata": {
    "collapsed": true,
    "jupyter": {
     "outputs_hidden": true
    },
    "tags": []
   },
   "outputs": [
    {
     "name": "stdout",
     "output_type": "stream",
     "text": [
      "--2022-11-15 23:15:44--  https://raw.githubusercontent.com/Serfentum/bf_course/master/15.re/references\n",
      "Распознаётся raw.githubusercontent.com (raw.githubusercontent.com)... 2606:50c0:8003::154, 2606:50c0:8000::154, 2606:50c0:8001::154, ...\n",
      "Подключение к raw.githubusercontent.com (raw.githubusercontent.com)|2606:50c0:8003::154|:443... соединение установлено.\n",
      "HTTP-запрос отправлен. Ожидание ответа... 200 OK\n",
      "Длина: 1206044 (1,1M) [text/plain]\n",
      "Сохранение в каталог: ««references»».\n",
      "\n",
      "references          100%[===================>]   1,15M  1,15MB/s    за 1,0s    \n",
      "\n",
      "2022-11-15 23:15:46 (1,15 MB/s) - «references» сохранён [1206044/1206044]\n",
      "\n"
     ]
    }
   ],
   "source": [
    "!wget https://raw.githubusercontent.com/Serfentum/bf_course/master/15.re/references"
   ]
  },
  {
   "cell_type": "code",
   "execution_count": 22,
   "id": "63969e91-62bf-449a-8ae4-75be6dd20c78",
   "metadata": {},
   "outputs": [],
   "source": [
    "with open('references') as reference:\n",
    "    with open('links_from_reference.txt', 'w') as links:\n",
    "        for line in reference.readlines():\n",
    "            match = re.findall(r'ftp\\.[./\\w#]*', line)\n",
    "            for line in match:\n",
    "                print(line, file = links, sep = '\\n')\n"
   ]
  },
  {
   "cell_type": "markdown",
   "id": "39ad036b-f060-46b6-863c-3e3bc087f82a",
   "metadata": {},
   "source": [
    "**2. Извлеките из рассказа  2430 A.D. все числа  (5 баллов)**"
   ]
  },
  {
   "cell_type": "code",
   "execution_count": 8,
   "id": "1028fd74-2e34-4549-8cd6-63bbf708fa29",
   "metadata": {
    "collapsed": true,
    "jupyter": {
     "outputs_hidden": true
    },
    "tags": []
   },
   "outputs": [
    {
     "name": "stdout",
     "output_type": "stream",
     "text": [
      "--2022-11-17 19:42:55--  https://raw.githubusercontent.com/Serfentum/bf_course/master/15.re/2430AD\n",
      "Распознаётся raw.githubusercontent.com (raw.githubusercontent.com)... 2606:50c0:8001::154, 2606:50c0:8000::154, 2606:50c0:8002::154, ...\n",
      "Подключение к raw.githubusercontent.com (raw.githubusercontent.com)|2606:50c0:8001::154|:443... соединение установлено.\n",
      "HTTP-запрос отправлен. Ожидание ответа... 200 OK\n",
      "Длина: 16759 (16K) [text/plain]\n",
      "Сохранение в каталог: ««2430AD»».\n",
      "\n",
      "2430AD              100%[===================>]  16,37K  --.-KB/s    за 0,005s  \n",
      "\n",
      "2022-11-17 19:42:55 (3,13 MB/s) - «2430AD» сохранён [16759/16759]\n",
      "\n"
     ]
    }
   ],
   "source": [
    "!wget https://raw.githubusercontent.com/Serfentum/bf_course/master/15.re/2430AD"
   ]
  },
  {
   "cell_type": "code",
   "execution_count": 9,
   "id": "52691163-c06b-497e-a221-6bbe5c317785",
   "metadata": {
    "tags": []
   },
   "outputs": [
    {
     "name": "stdout",
     "output_type": "stream",
     "text": [
      "2430\n",
      "1969\n",
      "2430\n",
      "2430\n",
      "57\n",
      "57\n",
      "1970\n",
      "3.68\n",
      "35\n",
      "460\n",
      "2430\n"
     ]
    }
   ],
   "source": [
    "with open('2430AD') as tale:\n",
    "    for line in tale.readlines():\n",
    "        match = re.findall(r'\\d.\\d?\\d?', line)\n",
    "        for number in match:\n",
    "            print(number)\n"
   ]
  },
  {
   "cell_type": "markdown",
   "id": "04f24076-2b96-4737-b4ae-da4ea5cfc2d8",
   "metadata": {},
   "source": [
    "**3. Из того же рассказа извлеките все слова, в которых есть буква a, регистр при этом не важен  (5 баллов)**\n"
   ]
  },
  {
   "cell_type": "code",
   "execution_count": 10,
   "id": "dc9597af-9c6f-4bca-aa4a-5d5e44acf1ec",
   "metadata": {
    "collapsed": true,
    "jupyter": {
     "outputs_hidden": true
    },
    "tags": []
   },
   "outputs": [
    {
     "name": "stdout",
     "output_type": "stream",
     "text": [
      "['A', 'and', 'dawn', 'and', 'all', 'ache', 'have', 'a', 'nightmare', 'a', 'are', 'all', 'and', 'a', 'gleam', 'anywhere', 'an', 'original', 'a', 'personality', 'packed', 'talk', 'said', 'Alvarez', 'said', 'Social', 'eventually', 'An', 'character', 'escaped', 'adjustment', 'talking', 'irritates', 'past', 'tact', 'along', 'Trail', 'was', 'as', 'always', 'sparsely', 'have', 'taken', 'and', 'Alvarez', 'walking', 'Alvarez', 'was', 'tall', 'and', 'rather', 'athletic', 'a', 'muscular', 'activities', 'stairs', 'and', 'rampways', 'instance', 'almost', 'an', 'character', 'and', 'avoided', 'sunlamps', 'and', 'was', 'pale', 'said', 'want', 'can', 'have', 'square', 'space', 'and', 'has', 'apartment', 'Rather', 'a', 'a', 'way', 'said', 'Alvarez', 'And', 'a', 'Alvarez', 'added', 'matter', 'reach', 'peak', 'reach', 'reach', 'goal', 'All', 'mankind', 'And', 'said', 'at', 'that', 'way', 'that', 'against', 'plastic', 'passed', 'and', 'saw', 'distance', 'was', 'a', 'plankton', 'varieties', 'almost', 'that', 'above', 'far', 'above', 'was', 'giant', 'leading', 'sea', 'And', 'another', 'as', 'large', 'far', 'leading', 'sea', 'destination', 'was', 'a', 'back', 'that', 'thousands', 'had', 'passed', 'was', 'about', 'an', 'intangible', 'and', 'space', 'wall', 'was', 'blank', 'And', 'was', 'air', 'said', 'Alvarez', 'Inhuman', 'Literally', 'said', 'at', 'easy', 'signaled', 'waited', 'all', 'around', 'disregarded', 'manner', 'was', 'always', 'Cranwitz', 'was', 'waiting', 'same', 'all', 'gray', 'hair', 'and', 'uneasily', 'May', 'asked', 'Alvarez', 'Cranwitz', 'was', 'Cranwitz', 'and', 'sat', 'Cranwitz', 'remained', 'standing', 'and', 'said', 'Alvarez', 'said', 'ask', 'capacity', 'as', 'Representative', 'as', 'Representative', 'are', 'ready', 'social', 'Cranwitz', 'finally', 'was', 'and', 'had', 'clear', 'throat', 'want', 'said', 'have', 'a', 'contract', 'standing', 'family', 'has', 'always', 'had', 'all', 'and', 'said', 'irritably', 'asking', 'accede', 'voluntarily', 'Alvarez', 'understand', 'situation', 'what', 'was', 'father', 'really', 'what', 'was', 'last', 'year', 'Cranwitz', 'jaw', 'that', 'rate', 'has', 'year', 'amount', 'and', 'has', 'changed', 'That', 'year', 'year', 'year', 'carry', 'Alvarez', 'was', 'year', 'was', 'and', 'said', 'year', 'reached', 'goal', 'rate', 'exactly', 'matches', 'death', 'rate', 'population', 'exactly', 'steady', 'replacement', 'and', 'sea', 'farms', 'are', 'a', 'steady', 'state', 'stand', 'all', 'mankind', 'and', 'Because', 'a', 'Because', 'a', 'And', 'creatures', 'Guinea', 'Rabbits', 'and', 'lizards', 'haven', 'taken', 'a', 'all', 'What', 'harm', 'What', 'demanded', 'Cranwitz', 'said', 'at', 'was', 'a', 'Alvarez', 'had', 'heard', 'that', 'said', 'as', 'sympathy', 'as', 'and', 'a', 'certain', 'amount', 'real', 'sympathy', 'was', 'a', 'ago', 'vast', 'care', 'And', 'years', 'that', 'dinosaurs', 'have', 'man', 'ignorant', 'can', 'compare', 'real', 'asked', 'Cranwitz', 'was', 'larger', 'said', 'Cranwitz', 'Year', 'year', 'had', 'many', 'All', 'large', 'animals', 'All', 'carnivores', 'small', 'plants', 'creatures', 'Alvarez', 'said', 'What', 'wants', 'Mankind', 'against', 'Social', 'persuade', 'against', 'real', 'resistance', 'want', 'really', 'are', 'What', 'Alvarez', 'was', 'insinuating', 'Cranwitz', 'sat', 'A', 'certain', 'Someday', 'reach', 'Mankind', 'want', 'animals', 'want', 'start', 'a', 'variety', 'faded', 'stare', 'said', 'What', 'are', 'reached', 'said', 'Cranwitz', 'and', 'established', 'a', 'and', 'abandoned', 'all', 'solar', 'capable', 'human', 'Cranwitz', 'said', 'are', 'stars', 'Earthlike', 'Alvarez', 'head', 'reach', 'have', 'finally', 'Earth', 'and', 'human', 'have', 'made', 'and', 'Earth', 'margin', 'a', 'starship', 'capable', 'years', 'space', 'Have', 'wasn', 'last', 'said', 'Cranwitz', 'was', 'said', 'Alvarez', 'haven', 'romanticized', 'madness', 'was', 'a', 'and', 'was', 'and', 'reason', 'than', 'half', 'substance', 'war', 'and', 'preparations', 'war', 'ran', 'wasted', 'and', 'at', 'chance', 'and', 'tolerated', 'deviants', 'all', 'dreaded', 'what', 'called', 'population', 'and', 'dreamed', 'reaching', 'as', 'a', 'escape', 'combination', 'and', 'advances', 'that', 'changed', 'case', 'are', 'was', 'establishment', 'a', 'and', 'art', 'planetary', 'peace', 'and', 'a', 'placid', 'humanity', 'peacefully', 'and', 'multiplication', 'was', 'advance', 'exactly', 'many', 'Earth', 'many', 'calories', 'reached', 'Earth', 'and', 'that', 'many', 'carbon', 'plants', 'each', 'year', 'and', 'many', 'animal', 'plants', 'Earth', 'animal', 'Cranwitz', 'finally', 'And', 'all', 'human', 'Exactly', 'meant', 'all', 'animal', 'That', 'way', 'said', 'angrily', 'Alvarez', 'again', 'Cranwitz', 'said', 'replaced', 'placoderms', 'had', 'replaced', 'replaced', 'amphibians', 'and', 'replaced', 'mammals', 'at', 'last', 'has', 'reached', 'peak', 'Earth', 'bears', 'population', 'human', 'demanded', 'Cranwitz', 'vast', 'all', 'face', 'land', 'plants', 'and', 'animals', 'what', 'have', 'And', 'all', 'uninhabited', 'ocean', 'has', 'a', 'plankton', 'plankton', 'harvest', 'and', 'as', 'organic', 'matter', 'plankton', 'said', 'Alvarez', 'war', 'are', 'regulated', 'deaths', 'are', 'peaceful', 'infants', 'are', 'genetically', 'adjusted', 'and', 'Earth', 'are', 'normal', 'brain', 'largest', 'conceivable', 'quantity', 'conceivable', 'matter', 'And', 'all', 'that', 'brain', 'what', 'heaved', 'an', 'audible', 'exasperation', 'Alvarez', 'calm', 'said', 'destination', 'Perhaps', 'animals', 'Earth', 'was', 'was', 'necessary', 'and', 'take', 'chances', 'was', 'wasteful', 'Earth', 'was', 'had', 'and', 'had', 'after', 'mankind', 'came', 'had', 'learn', 'way', 'was', 'learning', 'had', 'take', 'chances', 'attempt', 'mad', 'mankind', 'has', 'have', 'planet', 'and', 'Alvarez', 'paused', 'that', 'said', 'want', 'Cranwitz', 'wants', 'generation', 'that', 'has', 'reached', 'and', 'want', 'having', 'reached', 'animals', 'are', 'way', 'Cranwitz', 'head', 'take', 'all', 'have', 'what', 'human', 'said', 'human', 'another', 'human', 'brain', 'what', 'measure', 'can', 'evaluate', 'human', 'brain', 'already', 'have', 'said', 'Alvarez', 'and', 'that', 'and', 'are', 'All', 'Earth', 'prepared', 'celebrate', 'year', 'AD', 'year', 'that', 'planet', 'at', 'last', 'goal', 'achieved', 'all', 'Shall', 'fan', 'a', 'flaw', 'a', 'flaw', 'Cranwitz', 'Earth', 'has', 'waiting', 'years', 'wait', 'cannot', 'and', 'voluntarily', 'a', 'said', 'all', 'say', 'that', 'Cranwitz', 'acted', 'and', 'that', 'act', 'was', 'reached', 'And', 'Cranwitz', 'said', 'imitating', 'And', 'say', 'that', 'Alvarez', 'and', 'persuaded', 'said', 'Alvarez', 'audible', 'annoyance', 'Cranwitz', 'can', 'against', 'Whatever', 'and', 'that', 'way', 'are', 'an', 'idealist', 'can', 'that', 'last', 'many', 'Cranwitz', 'and', 'Alvarez', 'hand', 'waved', 'and', 'said', 'a', 'remained', 'Cranwitz', 'Can', 'have', 'day', 'animals', 'And', 'And', 'stand', 'mankind', 'and', 'And', 'Alvarez', 'said', 'And', 'and', 'vast', 'continental', 'human', 'placidly', 'human', 'placidly', 'ate', 'half', 'a', 'carefully', 'made', 'talked', 'heat', 'ran', 'machinery', 'organized', 'libraries', 'amused', 'and', 'varied', 'machinery', 'repaired', 'plankton', 'planetary', 'ocean', 'basked', 'and', 'and', 'and', 'and', 'and', 'transferred', 'and', 'that', 'And', 'human', 'wastes', 'gathered', 'and', 'irradiated', 'and', 'and', 'human', 'and', 'treated', 'and', 'and', 'was', 'back', 'ocean', 'And', 'all', 'was', 'as', 'had', 'decades', 'and', 'millennia', 'Cranwitz', 'creatures', 'a', 'last', 'guinea', 'a', 'gaze', 'a', 'blade', 'grass', 'all', 'last', 'Earth', 'that', 'humans', 'humans', 'and', 'seared', 'plants', 'and', 'cages', 'and', 'animals', 'appropriate', 'vapors', 'and', 'and', 'last', 'was', 'and', 'mankind', 'and', 'was', 'Cranwitz', 'departed', 'Cranwitz', 'also', 'vapors', 'and', 'want', 'And', 'after', 'that', 'was', 'really', 'all', 'Earth', 'all', 'inhabitants', 'and', 'all', 'human', 'brain', 'was', 'Cranwitz', 'unusual', 'idea', 'universal', 'placidity', 'that', 'meant', 'that', 'had', 'at', 'last', 'achieved', 'A', 'was', 'and', 'had', 'paid', 'fears', 'unallayed', 'That', 'had', 'accepted', 'was', 'had', 'taken', 'was', 'GREATEST', 'ASSET', 'Campbell', 'same', 'again', 'years', 'and', 'Magazine', 'said', 'was', 'handing', 'that', 'had', 'at', 'a', 'and', 'said', 'necessarily', 'agree', 'another', 'read', 'and', 'hadn', 'about', 'crazy', 'about', 'unable', 'because', 'was', 'ashamed', 'and', 'was', 'great', 'man', 'feared', 'as', 'jackass', 'taking', 'that', 'had', 'added', 'favor', 'many', 'many', 'had', 'And', 'case', 'as', 'that', 'years', 'have', 'far', 'than', 'years', 'stayed', 'and', 'that', 'population', 'Earth', 'estimated', 'rate', 'increase', 'that', 'population', 'years', 'rate', 'Increase', 'can', 'maintained', 'years', 'year', 'A', 'human', 'and', 'equal', 'total', 'animal', 'Earth', 'that', 'above']\n"
     ]
    }
   ],
   "source": [
    "words = []\n",
    "with open('2430AD') as tale:\n",
    "    for line in tale.readlines():\n",
    "        match = re.findall(r\"[A-Za-z]*[aA][A-Za-z]*\", line)\n",
    "        for line in match:\n",
    "            words.append(line)\n",
    "print(words)\n",
    "# len(words)\n"
   ]
  },
  {
   "cell_type": "markdown",
   "id": "d35f400e-ca91-4dec-b938-c794843deb20",
   "metadata": {},
   "source": [
    "**4. Извлеките из рассказа все восклицательные предложения  (5 баллов)**"
   ]
  },
  {
   "cell_type": "code",
   "execution_count": 11,
   "id": "71c8815b-ca1d-4f4e-8ab5-9477302a0392",
   "metadata": {
    "collapsed": true,
    "jupyter": {
     "outputs_hidden": true
    },
    "tags": []
   },
   "outputs": [
    {
     "name": "stdout",
     "output_type": "stream",
     "text": [
      "['Yes!', 'Literally!', ' There was once a time!', ' Centuries ago!', ' Cranwitz!', 'If we succeed!']\n"
     ]
    }
   ],
   "source": [
    "exclamation = []\n",
    "with open('2430AD') as tale:\n",
    "    for line in tale.readlines():\n",
    "        match = re.findall(r\"[A-Za-z ]*!\", line)\n",
    "        for line in match:\n",
    "            exclamation.append(line)\n",
    "            \n",
    "print(exclamation)\n"
   ]
  },
  {
   "cell_type": "markdown",
   "id": "d91cb64b-f7aa-4c4e-9307-8ddfe16630a2",
   "metadata": {},
   "source": [
    "**5. Постройте гистограмму распределения длин уникальных слов (без учёта регистра, длина от 1) в тексте.   (5 баллов)**"
   ]
  },
  {
   "cell_type": "code",
   "execution_count": 16,
   "id": "cc20804e-2702-40de-9af7-7d35ce1ffa88",
   "metadata": {
    "collapsed": true,
    "jupyter": {
     "outputs_hidden": true
    },
    "tags": []
   },
   "outputs": [
    {
     "data": {
      "image/png": "[encoded data removed]",
      "text/plain": [
       "<Figure size 432x288 with 1 Axes>"
      ]
     },
     "metadata": {
      "needs_background": "light"
     },
     "output_type": "display_data"
    }
   ],
   "source": [
    "unique_lengths = {}\n",
    "unique_words_list = []\n",
    "all_words = []\n",
    "length_n_prop = {}\n",
    "\n",
    "# Creating list will all words\n",
    "\n",
    "with open('2430AD') as tale:\n",
    "    for line in tale.readlines():\n",
    "        match = re.findall(r\"[\\w'-]*\", line)\n",
    "        for line in match:\n",
    "            all_words.append(line.lower())\n",
    "\n",
    "# Creating list of unique words\n",
    "unique_words_list = list(set(all_words)) \n",
    "\n",
    "# Creating new dictianory with unique words and their lengths \n",
    "\n",
    "for word in unique_words_list:\n",
    "    unique_lengths[word] = len(word)\n",
    "\n",
    "# Creating list of lengths    \n",
    "    \n",
    "only_lengths = list(unique_lengths.values())\n",
    "\n",
    "# Creating dictionary whith lengths and proportions\n",
    "\n",
    "for number in only_lengths:\n",
    "    length_n_prop[number] = only_lengths.count(number)/len(only_lengths)\n",
    "\n",
    "# Creating barplot    \n",
    "    \n",
    "keys = list(length_n_prop.keys())\n",
    "vals = list(length_n_prop.values())\n",
    "\n",
    "fig = sns.barplot(x = keys, y = vals)\n",
    "fig.set(xlabel='Lengths of unique words', ylabel='Portion from all words');"
   ]
  },
  {
   "cell_type": "markdown",
   "id": "6d1b474b-0897-4072-a614-46b7e0692973",
   "metadata": {},
   "source": [
    "**6. Сделайте функцию-переводчик с русского на \"кирпичный язык\" (5 баллов)**"
   ]
  },
  {
   "cell_type": "code",
   "execution_count": 37,
   "id": "0863c0df-4648-427e-a523-adbe81a7a1c9",
   "metadata": {
    "collapsed": true,
    "jupyter": {
     "outputs_hidden": true
    },
    "tags": []
   },
   "outputs": [
    {
     "name": "stdin",
     "output_type": "stream",
     "text": [
      "Мяу мяу мяу аэродоставка чайного гриба в саратов\n"
     ]
    },
    {
     "data": {
      "text/plain": [
       "'акаэкэрокодокостакавкака чакайнокогоко грикибака в сакаракатоков'"
      ]
     },
     "execution_count": 37,
     "metadata": {},
     "output_type": "execute_result"
    }
   ],
   "source": [
    "def brickify(string):\n",
    "    vowels = ['а', 'у', 'о', 'и', 'э', 'ы', 'я', 'ю', 'е', 'ё']\n",
    "    for letter in vowels:\n",
    "        string = re.sub(f'{letter}', f'{letter}к{letter}', string)\n",
    "    return string\n",
    "\n",
    "string = input('Мяу мяу мяу')                            \n",
    "brickify(string)                          "
   ]
  }
 ],
 "metadata": {
  "kernelspec": {
   "display_name": "Python 3 (ipykernel)",
   "language": "python",
   "name": "python3"
  },
  "language_info": {
   "codemirror_mode": {
    "name": "ipython",
    "version": 3
   },
   "file_extension": ".py",
   "mimetype": "text/x-python",
   "name": "python",
   "nbconvert_exporter": "python",
   "pygments_lexer": "ipython3",
   "version": "3.8.10"
  }
 },
 "nbformat": 4,
 "nbformat_minor": 5
}
